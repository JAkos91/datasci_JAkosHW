{
 "cells": [
  {
   "cell_type": "code",
   "execution_count": 39,
   "metadata": {
    "ExecuteTime": {
     "end_time": "2021-05-07T11:42:31.809167Z",
     "start_time": "2021-05-07T11:42:31.806302Z"
    }
   },
   "outputs": [],
   "source": [
    "import pandas as pd\n",
    "import numpy as np\n",
    "import plotly.express as px\n",
    "from datetime import datetime"
   ]
  },
  {
   "cell_type": "code",
   "execution_count": 40,
   "metadata": {
    "ExecuteTime": {
     "end_time": "2021-05-07T11:42:32.035129Z",
     "start_time": "2021-05-07T11:42:32.031581Z"
    }
   },
   "outputs": [],
   "source": [
    "results = [1,2,3,4,5,6]\n",
    "control = 15\n",
    "path=\"/workspace/datasci/\"\n",
    "date = datetime(2021, 5, 5)"
   ]
  },
  {
   "cell_type": "code",
   "execution_count": 41,
   "metadata": {
    "ExecuteTime": {
     "end_time": "2021-05-07T11:42:32.240543Z",
     "start_time": "2021-05-07T11:42:32.234735Z"
    },
    "code_folding": []
   },
   "outputs": [],
   "source": [
    "class experiment:\n",
    "    \n",
    "    def __init__(self, results, control, path, date):\n",
    "        self.results = results\n",
    "        self.control = control\n",
    "        self.path = path\n",
    "        self.date = date\n",
    "        # self.results = self.normalize()\n",
    "        self.now = datetime.now()\n",
    "        self.date_time = now.strftime(\"%Y-%m-%d %H:%M:%S\")\n",
    "        self.path=f\"{self.path}{self.date_time}.csv\"\n",
    "        \n",
    "    def __len__(self):\n",
    "        return len(self.results)\n",
    "    \n",
    "    def __repr__(self):\n",
    "        return f\"Experiment data: {self.results}\"\n",
    "    \n",
    "    def normalize(self):\n",
    "        return [x / self.control for x in self.results]\n",
    "\n",
    "    def plot(self):\n",
    "        return px.line(self.results)\n",
    "    \n",
    "    def da(self):\n",
    "        self.experiment_df = { 'Results': self.results, 'Control': self.control, 'Date': self.date}\n",
    "        self.df = pd.DataFrame(self.experiment_df) \n",
    "        self.df.to_csv(path_or_buf=self.path, index = False, header=True)\n",
    "        print(self.df)\n",
    "        print(self.path)"
   ]
  },
  {
   "cell_type": "code",
   "execution_count": 42,
   "metadata": {
    "ExecuteTime": {
     "end_time": "2021-05-07T11:42:32.930519Z",
     "start_time": "2021-05-07T11:42:32.926907Z"
    }
   },
   "outputs": [],
   "source": [
    "experiment1 = experiment(results = [1,2,3,4,5,6], control = 10, path=path, date = date)"
   ]
  },
  {
   "cell_type": "code",
   "execution_count": null,
   "metadata": {},
   "outputs": [],
   "source": []
  },
  {
   "cell_type": "code",
   "execution_count": 43,
   "metadata": {
    "ExecuteTime": {
     "end_time": "2021-05-07T11:42:33.540121Z",
     "start_time": "2021-05-07T11:42:33.527214Z"
    }
   },
   "outputs": [
    {
     "name": "stdout",
     "output_type": "stream",
     "text": [
      "   Results  Control       Date\n",
      "0        1       10 2021-05-05\n",
      "1        2       10 2021-05-05\n",
      "2        3       10 2021-05-05\n",
      "3        4       10 2021-05-05\n",
      "4        5       10 2021-05-05\n",
      "5        6       10 2021-05-05\n",
      "/workspace/datasci/2021-05-07 11:41:36.csv\n"
     ]
    }
   ],
   "source": [
    "experiment1.da()"
   ]
  },
  {
   "cell_type": "code",
   "execution_count": 38,
   "metadata": {
    "ExecuteTime": {
     "end_time": "2021-05-07T11:42:23.243432Z",
     "start_time": "2021-05-07T11:42:23.235895Z"
    }
   },
   "outputs": [
    {
     "data": {
      "text/plain": [
       "[1, 2, 3, 4, 5, 6]"
      ]
     },
     "execution_count": 38,
     "metadata": {},
     "output_type": "execute_result"
    }
   ],
   "source": [
    "experiment1.results"
   ]
  },
  {
   "cell_type": "code",
   "execution_count": null,
   "metadata": {
    "ExecuteTime": {
     "end_time": "2021-05-07T11:16:40.809226Z",
     "start_time": "2021-05-07T11:16:40.415033Z"
    }
   },
   "outputs": [],
   "source": [
    "experiment1.plot()"
   ]
  }
 ],
 "metadata": {
  "kernelspec": {
   "display_name": "Python 3",
   "language": "python",
   "name": "python3"
  },
  "language_info": {
   "codemirror_mode": {
    "name": "ipython",
    "version": 3
   },
   "file_extension": ".py",
   "mimetype": "text/x-python",
   "name": "python",
   "nbconvert_exporter": "python",
   "pygments_lexer": "ipython3",
   "version": "3.8.5"
  },
  "toc": {
   "base_numbering": 1,
   "nav_menu": {},
   "number_sections": false,
   "sideBar": true,
   "skip_h1_title": false,
   "title_cell": "Table of Contents",
   "title_sidebar": "Contents",
   "toc_cell": false,
   "toc_position": {},
   "toc_section_display": true,
   "toc_window_display": false
  }
 },
 "nbformat": 4,
 "nbformat_minor": 4
}
